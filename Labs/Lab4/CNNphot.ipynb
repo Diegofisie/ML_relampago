{
 "cells": [
  {
   "cell_type": "code",
   "execution_count": null,
   "metadata": {},
   "outputs": [],
   "source": [
    "# ------------------------------------------------------------------------------\n",
    "# Set training variables\n",
    "# ------------------------------------------------------------------------------\n",
    "\n",
    "# System level\n",
    "# import sys\n",
    "\n",
    "# Future functions\n",
    "#from __future__ import print_function\n",
    "\n",
    "# Arrays\n",
    "import numpy as np\n",
    "\n",
    "# Keras (www.keras.io)\n",
    "from keras.models import Sequential, Model\n",
    "from keras.layers import Input, Flatten, Dense, Activation, Dropout, merge\n",
    "from keras.layers.convolutional import Convolution2D, MaxPooling2D, Conv1D\n",
    "from keras.layers.normalization import BatchNormalization\n",
    "from keras.optimizers import SGD\n",
    "from keras.models import model_from_json\n",
    "from keras.utils import np_utils\n",
    "from keras import backend as K\n",
    "from keras.callbacks import Callback, ModelCheckpoint\n",
    "from keras.preprocessing.image import ImageDataGenerator\n",
    "\n",
    "# Sklearn (for machine learning)\n",
    "from sklearn import metrics\n",
    "\n",
    "# Plots\n",
    "import matplotlib.cm as cm\n",
    "import matplotlib.image as mpimg\n",
    "import matplotlib.gridspec as gridspec\n",
    "from matplotlib import pyplot as plt\n",
    "from mpl_toolkits.axes_grid1 import make_axes_locatable\n",
    "%matplotlib inline\n",
    "\n"
   ]
  },
  {
   "cell_type": "code",
   "execution_count": 5,
   "metadata": {
    "collapsed": true
   },
   "outputs": [],
   "source": [
    "# ------------------------------------------------------------------------------\n",
    "# Set variables\n",
    "# ------------------------------------------------------------------------------\n",
    "\n",
    "# training variables\n",
    "nb_train = 8000  # number of objects for training (of both classes)\n",
    "nb_valid = 1000  # ... validation\n",
    "nb_test = 1000   # ... test\n",
    "nb_epoch = 10    # number of passes over full neural network during training\n",
    "nb_classes = 3   # number of classes (i.e., lens or non-lens)\n",
    "batch_size = 128 # number objects to put in memory at once \n",
    "\n",
    "# data location\n",
    "#dir_test = \"/Users/jmartine/teaching/dotastro/ML/Data161/\"\n",
    "#dir_test = \"/Users/jmartine/teaching/dotastro/hackday/CNNphot/data/\"\n"
   ]
  },
  {
   "cell_type": "code",
   "execution_count": 1,
   "metadata": {
    "collapsed": true
   },
   "outputs": [],
   "source": [
    "dir_test = \"data/\""
   ]
  },
  {
   "cell_type": "code",
   "execution_count": 6,
   "metadata": {},
   "outputs": [
    {
     "name": "stdout",
     "output_type": "stream",
     "text": [
      "(10000, 2, 20, 20)\n",
      "Data dimensions: \n",
      "Input data: \t  (10000, 2, 20, 20) (10000,)\n",
      "Training set: \t  (8000, 2, 20, 20) (8000,)\n",
      "Validation set:   (1000, 2, 20, 20) (1000,)\n",
      "Test Set:   \t  (1000, 2, 20, 20) (1000,)\n"
     ]
    }
   ],
   "source": [
    "# ------------------------------------------------------------------------------\n",
    "# Read in Data\n",
    "# ------------------------------------------------------------------------------\n",
    "\n",
    "# set file names for data\n",
    "file_x_data = dir_test + \"image_data_v9.npy\" # x data (images)\n",
    "file_y_data = dir_test + \"label_data_v9.npy\" # y data (labels)\n",
    "f_model = dir_test + \"model.json\" # model data (architecture)\n",
    "f_weights = dir_test + \"weights.h5\" # model data (weights that we fit for)\n",
    "\n",
    "# load data\n",
    "x_data = np.load(file_x_data)\n",
    "#x_data = np.expand_dims(x_data, axis=2)\n",
    "y_data = np.load(file_y_data)\n",
    "y_data = y_data - 1\n",
    "\n",
    "x_data = np.swapaxes(x_data,0,1)\n",
    "print (np.shape(x_data))\n",
    "\n",
    "# check data sizes\n",
    "statement =  \"#TrainingSamples + #ValidSamples #TestSamples > TotalSamples, exiting!!!\"\n",
    "nb_total = nb_train + nb_test + nb_valid\n",
    "assert nb_total <= len(x_data), statement\n",
    "\n",
    "# indices for where to slice the arrays\n",
    "ind_valid_start = ind_train_end = nb_train\n",
    "ind_valid_end = ind_test_start = nb_train + nb_valid\n",
    "ind_test_end = nb_train + nb_valid + nb_test\n",
    "\n",
    "# slice the image arrays\n",
    "x_train = x_data[ :ind_train_end, :, :, :]\n",
    "#x_train = np.expand_dims(x_train, axis=1)\n",
    "x_valid = x_data[ind_valid_start: ind_valid_end, :, :, :]\n",
    "#x_valid = np.expand_dims(x_valid, axis=1)\n",
    "x_test = x_data[ind_test_start: ind_test_end, :, :, :]\n",
    "#x_test = np.expand_dims(x_test, axis=1)\n",
    "\n",
    "# slice the label arrays\n",
    "y_train = y_data[:ind_train_end]\n",
    "y_valid = y_data[ind_valid_start: ind_valid_end]\n",
    "y_test = y_data[ind_test_start: ind_test_end]\n",
    "\n",
    "# cast data types\n",
    "x_train = x_train.astype('float32')\n",
    "x_valid = x_valid.astype('float32')\n",
    "x_test = x_test.astype('float32')\n",
    "\n",
    "print(\"Data dimensions: \")\n",
    "print(\"Input data: \\t \", np.shape(x_data), np.shape(y_data))\n",
    "print(\"Training set: \\t \", np.shape(x_train), np.shape(y_train))\n",
    "print(\"Validation set:  \", np.shape(x_valid), np.shape(y_valid))\n",
    "print(\"Test Set:   \\t \", np.shape(x_test), np.shape(y_test))\n"
   ]
  },
  {
   "cell_type": "code",
   "execution_count": 10,
   "metadata": {},
   "outputs": [
    {
     "name": "stdout",
     "output_type": "stream",
     "text": [
      "2\n"
     ]
    },
    {
     "data": {
      "image/png": "[encoded data removed]",
      "text/plain": [
       "<matplotlib.figure.Figure at 0x125060470>"
      ]
     },
     "metadata": {},
     "output_type": "display_data"
    }
   ],
   "source": [
    "i=11\n",
    "plt.imshow((x_data[i][0,:,:]))\n",
    "print(y_data[i])"
   ]
  },
  {
   "cell_type": "code",
   "execution_count": 11,
   "metadata": {},
   "outputs": [
    {
     "name": "stdout",
     "output_type": "stream",
     "text": [
      "2681\n",
      "2625\n",
      "2694\n"
     ]
    }
   ],
   "source": [
    "print(len(y_train[y_train==0]))\n",
    "print(len(y_train[y_train==1]))\n",
    "print(len(y_train[y_train==2]))\n"
   ]
  },
  {
   "cell_type": "code",
   "execution_count": 6,
   "metadata": {},
   "outputs": [
    {
     "name": "stderr",
     "output_type": "stream",
     "text": [
      "/Users/jmartine/anaconda/lib/python3.6/site-packages/ipykernel_launcher.py:9: UserWarning: Update your `Conv2D` call to the Keras 2 API: `Conv2D(8, (4, 4), activation=\"relu\", strides=(4, 4), padding=\"same\", data_format=\"channels_first\")`\n",
      "  if __name__ == '__main__':\n",
      "/Users/jmartine/anaconda/lib/python3.6/site-packages/ipykernel_launcher.py:12: UserWarning: Update your `Conv2D` call to the Keras 2 API: `Conv2D(4, (3, 3), activation=\"relu\", strides=(2, 2), padding=\"same\")`\n",
      "  if sys.path[0] == '':\n",
      "/Users/jmartine/anaconda/lib/python3.6/site-packages/ipykernel_launcher.py:20: UserWarning: Update your `Model` call to the Keras 2 API: `Model(inputs=Tensor(\"in..., outputs=Tensor(\"de...)`\n"
     ]
    }
   ],
   "source": [
    "# ------------------------------------------------------------------------------\n",
    "# Set up model architecture\n",
    "# ------------------------------------------------------------------------------\n",
    "\n",
    "# Define architecture for model\n",
    "data_shape = np.shape(x_data)\n",
    "input_shape = (2, 20, 20)\n",
    "x = Input(shape=input_shape)\n",
    "c0 = Convolution2D(8, (4, 4), activation='relu', subsample=(4, 4), border_mode='same', dim_ordering='th')(x)\n",
    "b0 = BatchNormalization()(c0)\n",
    "d0 = Dropout(0.5)(b0)\n",
    "c1 = Convolution2D( 4, (3, 3), activation='relu', subsample=(2, 2), border_mode='same')(d0)\n",
    "b1 = BatchNormalization()(c1)\n",
    "d1 = Dropout(0.5)(b1)\n",
    "f = Flatten()(d1)\n",
    "z0 = Dense(128, activation='relu')(f)\n",
    "z1 = Dense(32, activation='relu')(z0)\n",
    "#y = Dense(1, activation='sigmoid')(z1)\n",
    "y = Dense(3, activation='softmax')(z1)\n",
    "model = Model(input=x, output=y)\n"
   ]
  },
  {
   "cell_type": "code",
   "execution_count": 7,
   "metadata": {},
   "outputs": [
    {
     "name": "stdout",
     "output_type": "stream",
     "text": [
      "_________________________________________________________________\n",
      "Layer (type)                 Output Shape              Param #   \n",
      "=================================================================\n",
      "input_1 (InputLayer)         (None, 2, 20, 20)         0         \n",
      "_________________________________________________________________\n",
      "conv2d_1 (Conv2D)            (None, 8, 5, 5)           264       \n",
      "_________________________________________________________________\n",
      "batch_normalization_1 (Batch (None, 8, 5, 5)           20        \n",
      "_________________________________________________________________\n",
      "dropout_1 (Dropout)          (None, 8, 5, 5)           0         \n",
      "_________________________________________________________________\n",
      "conv2d_2 (Conv2D)            (None, 4, 3, 4)           184       \n",
      "_________________________________________________________________\n",
      "batch_normalization_2 (Batch (None, 4, 3, 4)           16        \n",
      "_________________________________________________________________\n",
      "dropout_2 (Dropout)          (None, 4, 3, 4)           0         \n",
      "_________________________________________________________________\n",
      "flatten_1 (Flatten)          (None, 48)                0         \n",
      "_________________________________________________________________\n",
      "dense_1 (Dense)              (None, 128)               6272      \n",
      "_________________________________________________________________\n",
      "dense_2 (Dense)              (None, 32)                4128      \n",
      "_________________________________________________________________\n",
      "dense_3 (Dense)              (None, 3)                 99        \n",
      "=================================================================\n",
      "Total params: 10,983\n",
      "Trainable params: 10,965\n",
      "Non-trainable params: 18\n",
      "_________________________________________________________________\n"
     ]
    }
   ],
   "source": [
    "# Compile Model\n",
    "optimizer = 'rmsprop'\n",
    "metrics_model = ['accuracy']\n",
    "loss = 'sparse_categorical_crossentropy'\n",
    "model.compile(loss=loss, optimizer=optimizer, metrics=metrics_model)\n",
    "model.summary()\n"
   ]
  },
  {
   "cell_type": "code",
   "execution_count": 8,
   "metadata": {},
   "outputs": [
    {
     "name": "stderr",
     "output_type": "stream",
     "text": [
      "/Users/jmartine/anaconda/lib/python3.6/site-packages/ipykernel_launcher.py:11: UserWarning: The `nb_epoch` argument in `fit` has been renamed `epochs`.\n",
      "  # This is added back by InteractiveShellApp.init_path()\n"
     ]
    },
    {
     "name": "stdout",
     "output_type": "stream",
     "text": [
      "Train on 8000 samples, validate on 1000 samples\n",
      "Epoch 1/10\n",
      "8000/8000 [==============================] - 1s 183us/step - loss: 1.1335 - acc: 0.3342 - val_loss: 1.1036 - val_acc: 0.2960\n",
      "Epoch 2/10\n",
      "8000/8000 [==============================] - 1s 91us/step - loss: 1.1045 - acc: 0.3505 - val_loss: 1.0861 - val_acc: 0.2970\n",
      "Epoch 3/10\n",
      "8000/8000 [==============================] - 1s 87us/step - loss: 1.0596 - acc: 0.4148 - val_loss: 1.2832 - val_acc: 0.2960\n",
      "Epoch 4/10\n",
      "8000/8000 [==============================] - 1s 100us/step - loss: 0.9405 - acc: 0.5272 - val_loss: 1.4561 - val_acc: 0.2960\n",
      "Epoch 5/10\n",
      "8000/8000 [==============================] - 1s 100us/step - loss: 0.9000 - acc: 0.5573 - val_loss: 1.3676 - val_acc: 0.2960\n",
      "Epoch 6/10\n",
      "8000/8000 [==============================] - 1s 94us/step - loss: 0.8841 - acc: 0.5707 - val_loss: 1.4518 - val_acc: 0.2960\n",
      "Epoch 7/10\n",
      "8000/8000 [==============================] - 1s 112us/step - loss: 0.8827 - acc: 0.5735 - val_loss: 1.2377 - val_acc: 0.2960\n",
      "Epoch 8/10\n",
      "8000/8000 [==============================] - 1s 134us/step - loss: 0.8659 - acc: 0.5804 - val_loss: 0.8336 - val_acc: 0.5470\n",
      "Epoch 9/10\n",
      "8000/8000 [==============================] - 1s 106us/step - loss: 0.8523 - acc: 0.5930 - val_loss: 1.0694 - val_acc: 0.3180\n",
      "Epoch 10/10\n",
      "8000/8000 [==============================] - 1s 99us/step - loss: 0.8329 - acc: 0.6022 - val_loss: 0.7968 - val_acc: 0.5710\n"
     ]
    },
    {
     "data": {
      "text/plain": [
       "5089"
      ]
     },
     "execution_count": 8,
     "metadata": {},
     "output_type": "execute_result"
    }
   ],
   "source": [
    "# ------------------------------------------------------------------------------\n",
    "# Train model (using 'train' and 'valid' data)\n",
    "# ------------------------------------------------------------------------------\n",
    "\n",
    "# Train \n",
    "history = model.fit(\n",
    "                    x_train, y_train,\n",
    "                    batch_size=batch_size,\n",
    "                    nb_epoch=nb_epoch,\n",
    "                    validation_data=(x_valid, y_valid),\n",
    "                    verbose=True\n",
    "                    )\n",
    "# Save data\n",
    "model.save_weights(f_weights, overwrite=True)\n",
    "open(f_model, 'w').write(model.to_json())\n"
   ]
  },
  {
   "cell_type": "code",
   "execution_count": 9,
   "metadata": {},
   "outputs": [
    {
     "data": {
      "image/png": "[encoded data removed]",
      "text/plain": [
       "<matplotlib.figure.Figure at 0x13265c080>"
      ]
     },
     "metadata": {},
     "output_type": "display_data"
    }
   ],
   "source": [
    "# ------------------------------------------------------------------------------\n",
    "# Plot: Loss History during Training and Receiver-Operator Curve (ROC)\n",
    "# ------------------------------------------------------------------------------\n",
    "\n",
    "try:\n",
    "    sns.set_context(\"notebook\", font_scale=1.5, rc={\"lines.linewidth\": 2.5})\n",
    "except: \n",
    "    pass\n",
    "hist = history.history\n",
    "loss = hist['loss']\n",
    "val_loss = hist[\"val_loss\"]\n",
    "epochs = np.arange(nb_epoch)\n",
    "fig, axis1 = plt.subplots(figsize=(10,6))\n",
    "plt.plot(epochs, loss, 'b', label='loss')\n",
    "plt.plot(epochs, val_loss, 'r', label=\"val loss\")\n",
    "plt.xlabel('Epoch')\n",
    "plt.ylabel('Loss')\n",
    "plt.title(\"Loss History\")\n",
    "plt.legend(loc='upper right')\n",
    "plt.tight_layout()\n"
   ]
  },
  {
   "cell_type": "code",
   "execution_count": 10,
   "metadata": {},
   "outputs": [
    {
     "name": "stdout",
     "output_type": "stream",
     "text": [
      "[[0.97689769 0.02310231 0.        ]\n",
      " [0.21036585 0.78963415 0.        ]\n",
      " [0.01355014 0.98373984 0.00271003]]\n",
      "[False, True, False, False, True, False, True, False, False, True, False, True, False, True, False, False, False, True, True, False, True, False, True, False, False, True, True, False, False, True, True, False, True, True, True, False, False, True, False, False, False, True, False, True, False, True, False, False, True, True, False, True, True, True, True, True, False, True, True, True, False, True, True, False, False, True, False, True, True, True, False, False, False, False, False, True, False, True, False, True, True, False, False, False, True, True, True, False, False, False, False, True, True, True, True, False, False, False, True, False]\n",
      "[2 2 3 3 2 3 1 3 3 2 1 1 3 1 3 3 3 2 2 3 1 3 1 3 3 1 1 3 3 1 2 2 1 2 1 3 3\n",
      " 2 3 2 3 1 3 2 3 2 3 3 2 2 3 1 1 1 2 2 3 1 1 1 3 2 1 3 2 2 2 1 2 1 3 3 3 3\n",
      " 3 1 3 1 2 2 2 3 3 3 2 1 1 3 3 3 3 1 2 2 1 3 3 1 1 3]\n",
      "[1 2 2 2 2 2 1 2 2 2 2 1 2 1 2 2 2 2 2 2 1 2 1 2 2 1 1 2 2 1 2 1 1 2 1 2 2\n",
      " 2 2 1 2 1 2 2 2 2 2 2 2 2 2 1 1 1 2 2 2 1 1 1 2 2 1 2 1 2 1 1 2 1 2 2 2 2\n",
      " 2 1 2 1 1 2 2 2 2 2 2 1 1 2 2 2 2 1 2 2 1 2 2 2 1 2]\n",
      "0.556\n",
      "\n",
      "AUC: 0.556\n"
     ]
    }
   ],
   "source": [
    "# ------------------------------------------------------------------------------\n",
    "# Evaluate (using 'test' data)\n",
    "# ------------------------------------------------------------------------------\n",
    "\n",
    "# predict on 'test'\n",
    "y_prob = model.predict(x_test) # probability of being a lens\n",
    "#y_pred = (y_prob > 0.5).astype('int32') # binary classification\n",
    "y_pred = [np.argmax(y_prob[i])for i in range(len(y_prob))]\n",
    "\n",
    "# measure confusion matrix\n",
    "cm = metrics.confusion_matrix(y_test, y_pred, labels=[0, 1, 2])\n",
    "cm = cm.astype('float')\n",
    "cm_norm = cm / cm.sum(axis=1)[:, np.newaxis]\n",
    "\n",
    "print (cm_norm)\n",
    "\n",
    "\n",
    "acc = sum([y_pred[i]==y_test[i] for i in range(len(y_pred))])/len(y_pred)\n",
    "\n",
    "print ([y_pred[i]==y_test[i] for i in range(len(y_pred))][0:100])\n",
    "print (1+np.array(y_test[0:100]))\n",
    "print (1+np.array(y_pred[0:100]))\n",
    "\n",
    "print (acc)\n",
    "\n",
    "\n",
    "print()\n",
    "print(\"AUC:\", acc)\n"
   ]
  },
  {
   "cell_type": "code",
   "execution_count": 11,
   "metadata": {},
   "outputs": [
    {
     "data": {
      "text/plain": [
       "[<matplotlib.lines.Line2D at 0x1326e3390>]"
      ]
     },
     "execution_count": 11,
     "metadata": {},
     "output_type": "execute_result"
    },
    {
     "data": {
      "image/png": "[encoded data removed]",
      "text/plain": [
       "<matplotlib.figure.Figure at 0x13266d5f8>"
      ]
     },
     "metadata": {},
     "output_type": "display_data"
    }
   ],
   "source": [
    "plt.plot([1,2,3],y_prob[91])"
   ]
  },
  {
   "cell_type": "code",
   "execution_count": null,
   "metadata": {},
   "outputs": [],
   "source": []
  },
  {
   "cell_type": "code",
   "execution_count": 12,
   "metadata": {},
   "outputs": [
    {
     "ename": "SyntaxError",
     "evalue": "invalid syntax (<ipython-input-12-4073f1a16c3c>, line 1)",
     "output_type": "error",
     "traceback": [
      "\u001b[0;36m  File \u001b[0;32m\"<ipython-input-12-4073f1a16c3c>\"\u001b[0;36m, line \u001b[0;32m1\u001b[0m\n\u001b[0;31m    V0: ACC 0.934, Min_loss ~0.2, 50 epochs (0.5-1.0)\u001b[0m\n\u001b[0m                ^\u001b[0m\n\u001b[0;31mSyntaxError\u001b[0m\u001b[0;31m:\u001b[0m invalid syntax\n"
     ]
    }
   ],
   "source": [
    "V0: ACC 0.934, Min_loss ~0.2, 50 epochs (0.5-1.0)\n",
    "V1: ACC 0.657, Min_loss ~0.7, 120 epochs (0.0-1.0)\n",
    "V2: ACC 0.818, Min_loss ~0.4, 70 epochs (0.3-1.0)\n",
    "V3: ACC 0.830, Min_loss ~0\n"
   ]
  },
  {
   "cell_type": "code",
   "execution_count": 1,
   "metadata": {
    "collapsed": true
   },
   "outputs": [
    {
     "name": "stderr",
     "output_type": "stream",
     "text": [
      "/Users/jmartine/anaconda/lib/python3.6/importlib/_bootstrap.py:219: RuntimeWarning: numpy.dtype size changed, may indicate binary incompatibility. Expected 96, got 88\n",
      "  return f(*args, **kwds)\n",
      "/Users/jmartine/anaconda/lib/python3.6/importlib/_bootstrap.py:219: RuntimeWarning: numpy.dtype size changed, may indicate binary incompatibility. Expected 96, got 88\n",
      "  return f(*args, **kwds)\n"
     ]
    }
   ],
   "source": [
    "import numpy as np\n",
    "from sklearn.datasets import fetch_olivetti_faces\n",
    "# image shape\n",
    "image_shape = (64, 64)\n",
    "\n",
    "random_seed = 1\n",
    "np.random.seed(random_seed)\n",
    "\n",
    "# load faces data\n",
    "faces_dataset = fetch_olivetti_faces(shuffle=True, random_state=random_seed)\n",
    "faces = faces_dataset.data\n",
    "n_samples, n_features = faces.shape\n",
    "\n",
    "# function to visualize images\n",
    "def plot_face(ax, img, image_shape):\n",
    "    vmax = max(img.max(), -img.min())\n",
    "    ax.imshow(img.reshape(image_shape), cmap=plt.cm.gray,\n",
    "              interpolation='nearest',\n",
    "              vmin=-vmax, vmax=vmax)\n",
    "    return ax"
   ]
  },
  {
   "cell_type": "code",
   "execution_count": 2,
   "metadata": {},
   "outputs": [
    {
     "name": "stdout",
     "output_type": "stream",
     "text": [
      "[[0.21487603 0.21900827 0.21900827 ... 0.57438016 0.59090906 0.60330576]\n",
      " [0.6570248  0.6652893  0.69008267 ... 0.3305785  0.32231405 0.3429752 ]\n",
      " [0.11983471 0.11157025 0.11570248 ... 0.6528926  0.77272725 0.74380165]\n",
      " ...\n",
      " [0.3677686  0.3677686  0.35123968 ... 0.4876033  0.5123967  0.5495868 ]\n",
      " [0.21487603 0.2644628  0.3429752  ... 0.45867768 0.446281   0.446281  ]\n",
      " [0.10330579 0.21900827 0.17768595 ... 0.43801653 0.4752066  0.2768595 ]]\n"
     ]
    }
   ],
   "source": [
    "print(faces)"
   ]
  },
  {
   "cell_type": "code",
   "execution_count": 3,
   "metadata": {
    "collapsed": true
   },
   "outputs": [],
   "source": [
    "labels = faces_dataset.target\n",
    "# take images from only two individuals\n",
    "X_flat = faces[(labels == 0) | (labels == 1) | (labels == 2)]\n",
    "X_flat.shape\n",
    "X = X_flat.reshape((30, 64, 64, 1))\n",
    "Y = labels[(labels == 0) | (labels == 1) | (labels == 2)]"
   ]
  },
  {
   "cell_type": "code",
   "execution_count": 4,
   "metadata": {},
   "outputs": [
    {
     "name": "stdout",
     "output_type": "stream",
     "text": [
      "[2 0 1 0 0 1 1 2 1 2 1 1 0 1 0 1 0 2 2 2 1 2 0 2 1 2 0 0 2 0]\n"
     ]
    }
   ],
   "source": [
    "print(Y)"
   ]
  },
  {
   "cell_type": "code",
   "execution_count": 5,
   "metadata": {},
   "outputs": [
    {
     "data": {
      "text/plain": [
       "<matplotlib.figure.Figure at 0x11446c3c8>"
      ]
     },
     "metadata": {},
     "output_type": "display_data"
    }
   ],
   "source": [
    "from matplotlib import pyplot as plt\n",
    "# we plot two sample images from the data set\n",
    "fig, ax = plt.subplots(1, 3, figsize=(15, 5))\n",
    "ax[0] = plot_face(ax[0], X[Y == 0][0], image_shape)\n",
    "ax[1] = plot_face(ax[1], X[Y == 1][0], image_shape)\n",
    "ax[2] = plot_face(ax[2], X[Y == 2][0], image_shape)\n",
    "plt.show()"
   ]
  },
  {
   "cell_type": "code",
   "execution_count": 6,
   "metadata": {},
   "outputs": [
    {
     "name": "stderr",
     "output_type": "stream",
     "text": [
      "Using TensorFlow backend.\n",
      "/Users/jmartine/anaconda/lib/python3.6/importlib/_bootstrap.py:219: RuntimeWarning: numpy.dtype size changed, may indicate binary incompatibility. Expected 96, got 88\n",
      "  return f(*args, **kwds)\n"
     ]
    }
   ],
   "source": [
    "from keras.layers import Dense, Dropout, Conv2D, Flatten, MaxPooling2D, GlobalAveragePooling1D\n",
    "from keras.models import Sequential, Model\n",
    "from keras.layers.normalization import BatchNormalization\n",
    "\n",
    "# kernel size\n",
    "kernel_size = (8, 8)\n",
    "stride_size = (1, 1)\n",
    "filters = 3\n",
    "\n",
    "cnn_model = Sequential()\n",
    "# feature extraction layer 0: convolution\n",
    "cnn_model.add(Conv2D(filters, kernel_size=kernel_size, strides=stride_size,\n",
    "                 activation='relu',\n",
    "                 input_shape=(64, 64, 1)))\n",
    "# batch normalization\n",
    "cnn_model.add(BatchNormalization())\n",
    "# Dropout\n",
    "cnn_model.add(Dropout(0.5))\n",
    "# feature extraction layer 1: max pooling\n",
    "cnn_model.add(MaxPooling2D(pool_size=(2, 2)))\n",
    "# classification layer 2: flattening\n",
    "cnn_model.add(Flatten())\n",
    "# classification layer 3: dense non-linear transformation\n",
    "cnn_model.add(Dense(100, activation='relu'))\n",
    "# classification layer 4: output label probability\n",
    "cnn_model.add(Dense(1, activation='softmax'))\n",
    "\n",
    "cnn_model.compile(loss='binary_crossentropy',\n",
    "                  optimizer='sgd',\n",
    "                  metrics=['accuracy'])"
   ]
  },
  {
   "cell_type": "code",
   "execution_count": 7,
   "metadata": {},
   "outputs": [
    {
     "ename": "ValueError",
     "evalue": "Error when checking target: expected dense_2 to have shape (3,) but got array with shape (1,)",
     "output_type": "error",
     "traceback": [
      "\u001b[0;31m---------------------------------------------------------------------------\u001b[0m",
      "\u001b[0;31mValueError\u001b[0m                                Traceback (most recent call last)",
      "\u001b[0;32m<ipython-input-7-f5870911a53f>\u001b[0m in \u001b[0;36m<module>\u001b[0;34m()\u001b[0m\n\u001b[1;32m      1\u001b[0m \u001b[0;31m# fit the model\u001b[0m\u001b[0;34m\u001b[0m\u001b[0;34m\u001b[0m\u001b[0m\n\u001b[0;32m----> 2\u001b[0;31m \u001b[0mcnn_model\u001b[0m\u001b[0;34m.\u001b[0m\u001b[0mfit\u001b[0m\u001b[0;34m(\u001b[0m\u001b[0mX\u001b[0m\u001b[0;34m,\u001b[0m \u001b[0mY\u001b[0m\u001b[0;34m,\u001b[0m \u001b[0mbatch_size\u001b[0m\u001b[0;34m=\u001b[0m\u001b[0;36m20\u001b[0m\u001b[0;34m,\u001b[0m \u001b[0mepochs\u001b[0m\u001b[0;34m=\u001b[0m\u001b[0;36m500\u001b[0m\u001b[0;34m,\u001b[0m \u001b[0mverbose\u001b[0m\u001b[0;34m=\u001b[0m\u001b[0;36m0\u001b[0m\u001b[0;34m)\u001b[0m\u001b[0;34m\u001b[0m\u001b[0m\n\u001b[0m",
      "\u001b[0;32m~/anaconda/lib/python3.6/site-packages/keras/engine/training.py\u001b[0m in \u001b[0;36mfit\u001b[0;34m(self, x, y, batch_size, epochs, verbose, callbacks, validation_split, validation_data, shuffle, class_weight, sample_weight, initial_epoch, steps_per_epoch, validation_steps, **kwargs)\u001b[0m\n\u001b[1;32m    953\u001b[0m             \u001b[0msample_weight\u001b[0m\u001b[0;34m=\u001b[0m\u001b[0msample_weight\u001b[0m\u001b[0;34m,\u001b[0m\u001b[0;34m\u001b[0m\u001b[0m\n\u001b[1;32m    954\u001b[0m             \u001b[0mclass_weight\u001b[0m\u001b[0;34m=\u001b[0m\u001b[0mclass_weight\u001b[0m\u001b[0;34m,\u001b[0m\u001b[0;34m\u001b[0m\u001b[0m\n\u001b[0;32m--> 955\u001b[0;31m             batch_size=batch_size)\n\u001b[0m\u001b[1;32m    956\u001b[0m         \u001b[0;31m# Prepare validation data.\u001b[0m\u001b[0;34m\u001b[0m\u001b[0;34m\u001b[0m\u001b[0m\n\u001b[1;32m    957\u001b[0m         \u001b[0mdo_validation\u001b[0m \u001b[0;34m=\u001b[0m \u001b[0;32mFalse\u001b[0m\u001b[0;34m\u001b[0m\u001b[0m\n",
      "\u001b[0;32m~/anaconda/lib/python3.6/site-packages/keras/engine/training.py\u001b[0m in \u001b[0;36m_standardize_user_data\u001b[0;34m(self, x, y, sample_weight, class_weight, check_array_lengths, batch_size)\u001b[0m\n\u001b[1;32m    790\u001b[0m                 \u001b[0mfeed_output_shapes\u001b[0m\u001b[0;34m,\u001b[0m\u001b[0;34m\u001b[0m\u001b[0m\n\u001b[1;32m    791\u001b[0m                 \u001b[0mcheck_batch_axis\u001b[0m\u001b[0;34m=\u001b[0m\u001b[0;32mFalse\u001b[0m\u001b[0;34m,\u001b[0m  \u001b[0;31m# Don't enforce the batch size.\u001b[0m\u001b[0;34m\u001b[0m\u001b[0m\n\u001b[0;32m--> 792\u001b[0;31m                 exception_prefix='target')\n\u001b[0m\u001b[1;32m    793\u001b[0m \u001b[0;34m\u001b[0m\u001b[0m\n\u001b[1;32m    794\u001b[0m             \u001b[0;31m# Generate sample-wise weight values given the `sample_weight` and\u001b[0m\u001b[0;34m\u001b[0m\u001b[0;34m\u001b[0m\u001b[0m\n",
      "\u001b[0;32m~/anaconda/lib/python3.6/site-packages/keras/engine/training_utils.py\u001b[0m in \u001b[0;36mstandardize_input_data\u001b[0;34m(data, names, shapes, check_batch_axis, exception_prefix)\u001b[0m\n\u001b[1;32m    134\u001b[0m                             \u001b[0;34m': expected '\u001b[0m \u001b[0;34m+\u001b[0m \u001b[0mnames\u001b[0m\u001b[0;34m[\u001b[0m\u001b[0mi\u001b[0m\u001b[0;34m]\u001b[0m \u001b[0;34m+\u001b[0m \u001b[0;34m' to have shape '\u001b[0m \u001b[0;34m+\u001b[0m\u001b[0;34m\u001b[0m\u001b[0m\n\u001b[1;32m    135\u001b[0m                             \u001b[0mstr\u001b[0m\u001b[0;34m(\u001b[0m\u001b[0mshape\u001b[0m\u001b[0;34m)\u001b[0m \u001b[0;34m+\u001b[0m \u001b[0;34m' but got array with shape '\u001b[0m \u001b[0;34m+\u001b[0m\u001b[0;34m\u001b[0m\u001b[0m\n\u001b[0;32m--> 136\u001b[0;31m                             str(data_shape))\n\u001b[0m\u001b[1;32m    137\u001b[0m     \u001b[0;32mreturn\u001b[0m \u001b[0mdata\u001b[0m\u001b[0;34m\u001b[0m\u001b[0m\n\u001b[1;32m    138\u001b[0m \u001b[0;34m\u001b[0m\u001b[0m\n",
      "\u001b[0;31mValueError\u001b[0m: Error when checking target: expected dense_2 to have shape (3,) but got array with shape (1,)"
     ]
    }
   ],
   "source": [
    "# fit the model\n",
    "cnn_model.fit(X, Y, batch_size=20, epochs=500, verbose=0)"
   ]
  },
  {
   "cell_type": "code",
   "execution_count": 8,
   "metadata": {},
   "outputs": [
    {
     "name": "stdout",
     "output_type": "stream",
     "text": [
      "Train loss: 6.357829107628277e-08\n",
      "Train accuracy: 0.3333333432674408\n"
     ]
    }
   ],
   "source": [
    "# evaluate the training and testing performance of your model \n",
    "# note: you should extract check both the loss function and your evaluation metric\n",
    "score = cnn_model.evaluate(X, Y, verbose=0)\n",
    "print('Train loss:', score[0])\n",
    "print('Train accuracy:', score[1])"
   ]
  },
  {
   "cell_type": "code",
   "execution_count": null,
   "metadata": {
    "collapsed": true
   },
   "outputs": [],
   "source": []
  }
 ],
 "metadata": {
  "kernelspec": {
   "display_name": "Python 3",
   "language": "python",
   "name": "python3"
  },
  "language_info": {
   "codemirror_mode": {
    "name": "ipython",
    "version": 3
   },
   "file_extension": ".py",
   "mimetype": "text/x-python",
   "name": "python",
   "nbconvert_exporter": "python",
   "pygments_lexer": "ipython3",
   "version": "3.5.6"
  }
 },
 "nbformat": 4,
 "nbformat_minor": 2
}
